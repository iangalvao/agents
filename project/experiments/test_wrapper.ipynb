{
 "cells": [
  {
   "cell_type": "code",
   "execution_count": 2,
   "id": "54207566-56a6-4856-8ab4-29c332c0df9b",
   "metadata": {},
   "outputs": [
    {
     "name": "stdout",
     "output_type": "stream",
     "text": [
      "['/home/ian/ian/agents/project', '/home/ian/ian/agents/project/experiments/~/ian/agents/project', '/home/ian/ian/agents/project/experiments', '/home/ian/.pyenv/versions/3.11.9/lib/python311.zip', '/home/ian/.pyenv/versions/3.11.9/lib/python3.11', '/home/ian/.pyenv/versions/3.11.9/lib/python3.11/lib-dynload', '', '/home/ian/ian/agents/project/.venv/lib/python3.11/site-packages']\n",
      "Using OpenAI LLM with model: ChatOpenAI and temperature: 0.3\n",
      "LLMResponseWrapper(content='1. Carlos Chagas - He was a Brazilian physician and scientist who discovered Chagas disease, a parasitic disease that affects millions of people, primarily in Latin America.\\n\\n2. Cesar Lattes - He was a Brazilian physicist and one of the discoverers of the pion, a subatomic particle. He is considered one of the greatest Brazilian scientists and his research contributed significantly to the field of particle physics.\\n\\n3. Adolfo Lutz - He was a Brazilian physician, bacteriologist, and epidemiologist who made significant contributions to the study of infectious diseases, particularly yellow fever and bubonic plague.', input_tokens=13, output_tokens=124, total_cost=0.0, latency=4.069, raw=AIMessage(content='1. Carlos Chagas - He was a Brazilian physician and scientist who discovered Chagas disease, a parasitic disease that affects millions of people, primarily in Latin America.\\n\\n2. Cesar Lattes - He was a Brazilian physicist and one of the discoverers of the pion, a subatomic particle. He is considered one of the greatest Brazilian scientists and his research contributed significantly to the field of particle physics.\\n\\n3. Adolfo Lutz - He was a Brazilian physician, bacteriologist, and epidemiologist who made significant contributions to the study of infectious diseases, particularly yellow fever and bubonic plague.', additional_kwargs={'refusal': None}, response_metadata={'token_usage': {'completion_tokens': 124, 'prompt_tokens': 13, 'total_tokens': 137, 'completion_tokens_details': {'accepted_prediction_tokens': 0, 'audio_tokens': 0, 'reasoning_tokens': 0, 'rejected_prediction_tokens': 0}, 'prompt_tokens_details': {'audio_tokens': 0, 'cached_tokens': 0}}, 'model_name': 'gpt-4-0613', 'system_fingerprint': None, 'id': 'chatcmpl-BkhoCqPMNKXa2N4aul2OUSp9Vc5Bh', 'service_tier': 'default', 'finish_reason': 'stop', 'logprobs': None}, id='run--95a15bfa-2ad6-4409-80a7-ab27cbed224d-0', usage_metadata={'input_tokens': 13, 'output_tokens': 124, 'total_tokens': 137, 'input_token_details': {'audio': 0, 'cache_read': 0}, 'output_token_details': {'audio': 0, 'reasoning': 0}}))\n"
     ]
    }
   ],
   "source": [
    "import sys\n",
    "print(sys.path)\n",
    "\n",
    "from models.provider import get_llm\n",
    "from models.cloud_openai import call_openai\n",
    "\n",
    "llm = get_llm(\"openai\")  # or \"openai\"\n",
    "response = call_openai(\"Name 3 famous Brazilian scientists\", llm)\n",
    "print(response)"
   ]
  },
  {
   "cell_type": "code",
   "execution_count": null,
   "id": "eac0b3f6-ca68-4d92-bf71-6543b2d3ad66",
   "metadata": {},
   "outputs": [],
   "source": []
  }
 ],
 "metadata": {
  "kernelspec": {
   "display_name": "Python 3 (ipykernel)",
   "language": "python",
   "name": "python3"
  },
  "language_info": {
   "codemirror_mode": {
    "name": "ipython",
    "version": 3
   },
   "file_extension": ".py",
   "mimetype": "text/x-python",
   "name": "python",
   "nbconvert_exporter": "python",
   "pygments_lexer": "ipython3",
   "version": "3.11.9"
  }
 },
 "nbformat": 4,
 "nbformat_minor": 5
}
