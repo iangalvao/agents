{
 "cells": [
  {
   "cell_type": "code",
   "execution_count": null,
   "id": "d0b5f992-decf-49e1-8290-8d55c077dafa",
   "metadata": {},
   "outputs": [],
   "source": [
    "from tools.repl import execute_python\n",
    "\n",
    "print(execute_python(\"print('Hello from the REPL')\"))\n",
    "print(execute_python(\"1 / 0\"))  # Should show an error\n"
   ]
  }
 ],
 "metadata": {
  "kernelspec": {
   "display_name": "Python 3 (ipykernel)",
   "language": "python",
   "name": "python3"
  },
  "language_info": {
   "codemirror_mode": {
    "name": "ipython",
    "version": 3
   },
   "file_extension": ".py",
   "mimetype": "text/x-python",
   "name": "python",
   "nbconvert_exporter": "python",
   "pygments_lexer": "ipython3",
   "version": "3.11.9"
  }
 },
 "nbformat": 4,
 "nbformat_minor": 5
}
