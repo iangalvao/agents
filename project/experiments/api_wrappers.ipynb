{
 "cells": [
  {
   "cell_type": "code",
   "execution_count": 12,
   "id": "afb7d3a3-a9b5-4e31-983c-c9db7910a8e3",
   "metadata": {},
   "outputs": [
    {
     "name": "stdout",
     "output_type": "stream",
     "text": [
      "Using DEEPSEEK -> API KEY: sk-8adbd84137914ff393eb5a7d3db0efc7\n",
      "\"Project Autonome\"\n"
     ]
    }
   ],
   "source": [
    "# experiments/01_test_llm.ipynb\n",
    "\n",
    "import os\n",
    "from dotenv import load_dotenv\n",
    "\n",
    "from langchain.chat_models import ChatOpenAI\n",
    "from langchain.schema import HumanMessage\n",
    "\n",
    "# ✅ Load .env file with API keys\n",
    "load_dotenv()\n",
    "\n",
    "# ✅ Read keys from env\n",
    "openai_key = os.getenv(\"OPENAI_API_KEY\")\n",
    "deepseek_key = os.getenv(\"DEEPSEEK_API_KEY\")\n",
    "\n",
    "# ✅ Choose provider: \"openai\" or \"deepseek\"\n",
    "provider = \"deepseek\"\n",
    "\n",
    "if provider == \"openai\":\n",
    "    llm = ChatOpenAI(openai_api_key=openai_key, model=\"gpt-4\", temperature=0.3)\n",
    "\n",
    "elif provider == \"deepseek\":\n",
    "    # DeepSeek works like OpenAI-compatible API\n",
    "    # Needs to specify base_url and api_key\n",
    "    from langchain.chat_models import ChatOpenAI\n",
    "    llm = ChatOpenAI(\n",
    "        openai_api_key=deepseek_key,\n",
    "        openai_api_base=\"https://api.deepseek.com/v1\",\n",
    "        model=\"deepseek-chat\",\n",
    "        temperature=0.3\n",
    "    )\n",
    "\n",
    "# ✅ Test it\n",
    "responseDeepSeek = llm.invoke(\"Hello, what's a good project name for an autonomous AI agent?\")\n",
    "print(response.content)\n"
   ]
  },
  {
   "cell_type": "code",
   "execution_count": 11,
   "id": "6b5920ce-faea-4eee-a806-4dad3b13e9ea",
   "metadata": {},
   "outputs": [
    {
     "data": {
      "text/plain": [
       "AIMessage(content='\"Project Autonome\"', additional_kwargs={}, response_metadata={'token_usage': {'completion_tokens': 6, 'prompt_tokens': 21, 'total_tokens': 27, 'completion_tokens_details': {'accepted_prediction_tokens': 0, 'audio_tokens': 0, 'reasoning_tokens': 0, 'rejected_prediction_tokens': 0}, 'prompt_tokens_details': {'audio_tokens': 0, 'cached_tokens': 0}}, 'model_name': 'gpt-4', 'system_fingerprint': None, 'finish_reason': 'stop', 'logprobs': None}, id='run--15043a10-d5db-49e8-97d9-0a30d9db450d-0')"
      ]
     },
     "execution_count": 11,
     "metadata": {},
     "output_type": "execute_result"
    }
   ],
   "source": [
    "response"
   ]
  },
  {
   "cell_type": "code",
   "execution_count": 14,
   "id": "16fa9c35-9cd6-4a0f-bf6a-686cd46ba6d6",
   "metadata": {},
   "outputs": [
    {
     "data": {
      "text/plain": [
       "AIMessage(content='Naming your autonomous AI agent can be fun and creative! Here are some project name ideas based on different themes:  \\n\\n### **Futuristic & Tech-Inspired:**  \\n- **Aurora** (symbolizing dawn of AI)  \\n- **Nexus** (central hub of intelligence)  \\n- **Sentinel** (guardian-like AI)  \\n- **Echelon** (advanced tier of AI)  \\n- **Vektor** (dynamic and precise)  \\n\\n### **Mythology & Literature:**  \\n- **Prometheus** (bringer of knowledge)  \\n- **Athena** (goddess of wisdom & strategy)  \\n- **Merlin** (legendary AI advisor)  \\n- **Daedalus** (master of autonomous systems)  \\n- **Loki** (if it’s a mischievous or adaptive AI)  \\n\\n### **Nature & Space-Themed:**  \\n- **Astra** (stars, for an exploratory AI)  \\n- **Terrabyte** (play on \"terra\" + \"byte\")  \\n- **Zephyr** (light, swift, and intelligent)  \\n- **Nova** (explosive intelligence)  \\n- **Echo** (responsive and adaptive)  \\n\\n### **Minimalist & Abstract:**  \\n- **Neo** (new, revolutionary)  \\n- **Kai** (AI with multiple meanings)  \\n- **Luma** (light, clarity)  \\n- **Vox** (voice of AI)  \\n- **Rune** (mystical intelligence)  \\n\\n### **Playful & AI-Punny:**  \\n- **AutoMate** (autonomous + mate)  \\n- **SynapBot** (synapse + bot)  \\n- **Cerebra** (brainy AI)  \\n- **ByteMind** (digital intelligence)  \\n- **Logicore** (logical core)  \\n\\nWould you like a name that reflects a specific function (e.g., productivity, creativity, security)? Let me know, and I can refine the suggestions! 🚀', additional_kwargs={}, response_metadata={'token_usage': {'completion_tokens': 425, 'prompt_tokens': 17, 'total_tokens': 442, 'completion_tokens_details': None, 'prompt_tokens_details': {'audio_tokens': None, 'cached_tokens': 0}, 'prompt_cache_hit_tokens': 0, 'prompt_cache_miss_tokens': 17}, 'model_name': 'deepseek-chat', 'system_fingerprint': 'fp_8802369eaa_prod0425fp8', 'finish_reason': 'stop', 'logprobs': None}, id='run--1b4eef7d-8443-4019-b438-865fd65912bf-0')"
      ]
     },
     "execution_count": 14,
     "metadata": {},
     "output_type": "execute_result"
    }
   ],
   "source": [
    "responseDeepSeek"
   ]
  },
  {
   "cell_type": "code",
   "execution_count": null,
   "id": "14cdbb40-1077-41f2-96ec-1c8bbf83ac4a",
   "metadata": {},
   "outputs": [],
   "source": []
  }
 ],
 "metadata": {
  "kernelspec": {
   "display_name": "Python 3 (ipykernel)",
   "language": "python",
   "name": "python3"
  },
  "language_info": {
   "codemirror_mode": {
    "name": "ipython",
    "version": 3
   },
   "file_extension": ".py",
   "mimetype": "text/x-python",
   "name": "python",
   "nbconvert_exporter": "python",
   "pygments_lexer": "ipython3",
   "version": "3.11.9"
  }
 },
 "nbformat": 4,
 "nbformat_minor": 5
}
