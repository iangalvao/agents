{
    "cells": [
        {
            "cell_type": "code",
            "execution_count": 4,
            "id": "10b126c2-b0cc-4572-bef7-791316086597",
            "metadata": {},
            "outputs": [
                {
                    "name": "stdout",
                    "output_type": "stream",
                    "text": [
                        "Uploaded file ID: file-3GdMioLHXuq4sP88doAU8U\n"
                    ]
                }
            ],
            "source": [
                "import openai\n",
                "from dotenv import load_dotenv  \n",
                "import os\n",
                "\n",
                "load_dotenv()  # Load environment variables from .env file\n",
                "\n",
                "\n",
                "# Initialize client with your API key\n",
                "api_key = os.getenv(\"OPENAI_API_KEY\")\n",
                "client = openai.OpenAI(api_key=api_key)\n",
                "\n",
                "# Step 1: Upload the file\n",
                "file = client.files.create(\n",
                "    file=open(\"sample-local-pdf.pdf\", \"rb\"),\n",
                "    purpose=\"assistants\"\n",
                ")\n",
                "print(\"Uploaded file ID:\", file.id)\n",
                "\n",
                "response = client.responses.create(\n",
                "    model=\"gpt-4.1\",\n",
                "    input=[\n",
                "        {\n",
                "            \"role\": \"user\",\n",
                "            \"content\": [\n",
                "                {\n",
                "                    \"type\": \"input_file\",\n",
                "                    \"file_id\": file.id,\n",
                "                },\n",
                "                {\n",
                "                    \"type\": \"input_text\",\n",
                "                    \"text\": \"What is the sample-local-pdf says?\",\n",
                "                },\n",
                "            ]\n",
                "        }\n",
                "    ]\n",
                ")\n"
            ]
        },
        {
            "cell_type": "code",
            "execution_count": 14,
            "id": "a9b16fbb-65a3-44b7-be80-a20a1f509ee6",
            "metadata": {},
            "outputs": [
                {
                    "data": {
                        "text/plain": [
                            "\"The content you provided appears to be a **sample PDF document** designed for testing a PDF embedding library called **PDFObject**. Here is a summary of what the document says:\\n\\n---\\n\\n### Summary of the Sample PDF\\n\\n- **Purpose:**  \\n  It is a three-page sample PDF created primarily for testing purposes. It is meant to help test the display or embedding of PDF files in various software scenarios.\\n\\n- **Content Theme:**  \\n  The text reflects humor and self-reference, discussing the concept of the document's length (three pages) and making a playful comparison to the phrase “three long minutes,” noting that actual duration or size doesn't change regardless of our perception.\\n\\n- **Included Filler Text:**  \\n  The majority of the document uses classic *Lorem ipsum* placeholder text (pseudo-Latin), which is commonly used in publishing and web design to fill pages and simulate the appearance of written content.\\n\\n- **Structure:**  \\n  - **Page 1:** Introduction to the PDF (purpose, self-referential musings), followed by Lorem ipsum filler text.\\n  - **Pages 2 & 3:** Continuation of Lorem ipsum placeholder paragraphs, meant purely to add bulk to the document and enable multi-page testing.\\n\\n---\\n\\n#### Sample snippet from the start:\\n\\n> This PDF is three pages long. Three long pages. Or three short pages if you’re optimistic. Is it the same as saying “three long minutes”, knowing that all minutes are the same duration, and one cannot possibly be longer than the other? If these pages are all the same size, can one possibly be longer than the other?  \\n> I digress. Here’s some Latin. Lorem ipsum dolor sit amet...\\n\\n---\\n\\n**In short:**  \\nThis sample PDF doesn't include meaningful real-world information, but is instead a demo/test file featuring standard placeholder text and a bit of light humour about document length. It helps developers or designers check how multi-page PDFs will behave in their applications.\\n\\nIf you need the *actual content* of the full sample, let me know!\""
                        ]
                    },
                    "execution_count": 14,
                    "metadata": {},
                    "output_type": "execute_result"
                }
            ],
            "source": [
                "response.output_text"
            ]
        }
    ],
    "metadata": {
        "kernelspec": {
            "display_name": "Python 3 (ipykernel)",
            "language": "python",
            "name": "python3"
        },
        "language_info": {
            "codemirror_mode": {
                "name": "ipython",
                "version": 3
            },
            "file_extension": ".py",
            "mimetype": "text/x-python",
            "name": "python",
            "nbconvert_exporter": "python",
            "pygments_lexer": "ipython3",
            "version": "3.11.9"
        }
    },
    "nbformat": 4,
    "nbformat_minor": 5
}