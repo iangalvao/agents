{
 "cells": [
  {
   "cell_type": "code",
   "execution_count": 1,
   "id": "54207566-56a6-4856-8ab4-29c332c0df9b",
   "metadata": {},
   "outputs": [
    {
     "name": "stdout",
     "output_type": "stream",
     "text": [
      "Using DeepSeek LLM with model: deepseek-chat and temperature: 0.3\n",
      "Brazil has produced many notable scientists who have made significant contributions to various fields. Here are three famous Brazilian scientists:\n",
      "\n",
      "1. **Carlos Chagas (1879–1934)** – A physician and bacteriologist, Chagas discovered **Chagas disease** (American trypanosomiasis), caused by the parasite *Trypanosoma cruzi*. He identified the pathogen, vector (kissing bugs), symptoms, and epidemiology, making it one of the first complete descriptions of a tropical disease.\n",
      "\n",
      "2. **César Lattes (1924–2005)** – A physicist, Lattes played a crucial role in the discovery of the **pion (pi-meson)**, a subatomic particle, in 1947. His work contributed to advancements in particle physics, and he helped establish Brazil’s scientific infrastructure, including the **Brazilian Center for Physical Research (CBPF)**.\n",
      "\n",
      "3. **Suzana Herculano-Houzel (b. 1972)** – A neuroscientist known for her research on the **human brain and neuron count**. She developed a method to count brain cells and showed that the human brain has about **86 billion neurons**, disproving earlier assumptions. She also studies brain evolution across species.\n",
      "\n",
      "Other notable mentions include **Mário Schenberg** (physicist), **Oswaldo Cruz** (public health pioneer), and **Miguel Nicolelis** (neuroscientist known for brain-machine interfaces). Would you like more details on any of them?\n"
     ]
    }
   ],
   "source": [
    "from models.provider import get_llm\n",
    "\n",
    "llm = get_llm(\"deepseek\")  # or \"openai\"\n",
    "response = llm.invoke(\"Name 3 famous Brazilian scientists\")\n",
    "print(response.content)"
   ]
  },
  {
   "cell_type": "code",
   "execution_count": null,
   "id": "eac0b3f6-ca68-4d92-bf71-6543b2d3ad66",
   "metadata": {},
   "outputs": [],
   "source": []
  }
 ],
 "metadata": {
  "kernelspec": {
   "display_name": "Python 3 (ipykernel)",
   "language": "python",
   "name": "python3"
  },
  "language_info": {
   "codemirror_mode": {
    "name": "ipython",
    "version": 3
   },
   "file_extension": ".py",
   "mimetype": "text/x-python",
   "name": "python",
   "nbconvert_exporter": "python",
   "pygments_lexer": "ipython3",
   "version": "3.11.9"
  }
 },
 "nbformat": 4,
 "nbformat_minor": 5
}
